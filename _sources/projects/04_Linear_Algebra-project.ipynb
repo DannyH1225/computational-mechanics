{
 "cells": [
  {
   "cell_type": "markdown",
   "id": "96be449c",
   "metadata": {},
   "source": [
    "# CompMech04-Linear Algebra Project\n",
    "## Practical Linear Algebra for Finite Element Analysis"
   ]
  },
  {
   "cell_type": "markdown",
   "id": "6d33507c",
   "metadata": {},
   "source": [
    "In this project we will perform a linear-elastic finite element analysis (FEA) on a support structure made of 11 beams that are riveted in 7 locations to create a truss as shown in the image below. \n",
    "\n",
    "![Mesh image of truss](../images/mesh.png)"
   ]
  },
  {
   "cell_type": "markdown",
   "id": "18edcfd5",
   "metadata": {},
   "source": [
    "The triangular truss shown above can be modeled using a [direct stiffness method [1]](https://en.wikipedia.org/wiki/Direct_stiffness_method), that is detailed in the [extra-FEA_material](./extra-FEA_material.ipynb) notebook. The end result of converting this structure to a FE model. Is that each joint, labeled $n~1-7$, short for _node 1-7_ can move in the x- and y-directions, but causes a force modeled with Hooke's law. Each beam labeled $el~1-11$, short for _element 1-11_, contributes to the stiffness of the structure. We have 14 equations where the sum of the components of forces = 0, represented by the equation\n",
    "\n",
    "$\\mathbf{F-Ku}=\\mathbf{0}$\n",
    "\n",
    "Where, $\\mathbf{F}$ are externally applied forces, $\\mathbf{u}$ are x- and y- displacements of nodes, and $\\mathbf{K}$ is the stiffness matrix given in `fea_arrays.npz` as `K`, shown below\n",
    "\n",
    "_note: the array shown is 1000x(`K`). You can use units of MPa (N/mm^2), N, and mm. The array `K` is in 1/mm_\n",
    "\n",
    "$\\mathbf{K}=EA*$\n",
    "\n",
    "$  \\left[ \\begin{array}{cccccccccccccc}\n",
    " 4.2 & 1.4 & -0.8 & -1.4 & -3.3 & 0.0 & 0.0 & 0.0 & 0.0 & 0.0 & 0.0 & 0.0 & 0.0 & 0.0 \\\\\n",
    " 1.4 & 2.5 & -1.4 & -2.5 & 0.0 & 0.0 & 0.0 & 0.0 & 0.0 & 0.0 & 0.0 & 0.0 & 0.0 & 0.0 \\\\\n",
    " -0.8 & -1.4 & 5.0 & 0.0 & -0.8 & 1.4 & -3.3 & 0.0 & 0.0 & 0.0 & 0.0 & 0.0 & 0.0 & 0.0 \\\\\n",
    " -1.4 & -2.5 & 0.0 & 5.0 & 1.4 & -2.5 & 0.0 & 0.0 & 0.0 & 0.0 & 0.0 & 0.0 & 0.0 & 0.0 \\\\\n",
    " -3.3 & 0.0 & -0.8 & 1.4 & 8.3 & 0.0 & -0.8 & -1.4 & -3.3 & 0.0 & 0.0 & 0.0 & 0.0 & 0.0 \\\\\n",
    " 0.0 & 0.0 & 1.4 & -2.5 & 0.0 & 5.0 & -1.4 & -2.5 & 0.0 & 0.0 & 0.0 & 0.0 & 0.0 & 0.0 \\\\\n",
    " 0.0 & 0.0 & -3.3 & 0.0 & -0.8 & -1.4 & 8.3 & 0.0 & -0.8 & 1.4 & -3.3 & 0.0 & 0.0 & 0.0 \\\\\n",
    " 0.0 & 0.0 & 0.0 & 0.0 & -1.4 & -2.5 & 0.0 & 5.0 & 1.4 & -2.5 & 0.0 & 0.0 & 0.0 & 0.0 \\\\\n",
    " 0.0 & 0.0 & 0.0 & 0.0 & -3.3 & 0.0 & -0.8 & 1.4 & 8.3 & 0.0 & -0.8 & -1.4 & -3.3 & 0.0 \\\\\n",
    " 0.0 & 0.0 & 0.0 & 0.0 & 0.0 & 0.0 & 1.4 & -2.5 & 0.0 & 5.0 & -1.4 & -2.5 & 0.0 & 0.0 \\\\\n",
    " 0.0 & 0.0 & 0.0 & 0.0 & 0.0 & 0.0 & -3.3 & 0.0 & -0.8 & -1.4 & 5.0 & 0.0 & -0.8 & 1.4 \\\\\n",
    " 0.0 & 0.0 & 0.0 & 0.0 & 0.0 & 0.0 & 0.0 & 0.0 & -1.4 & -2.5 & 0.0 & 5.0 & 1.4 & -2.5 \\\\\n",
    " 0.0 & 0.0 & 0.0 & 0.0 & 0.0 & 0.0 & 0.0 & 0.0 & -3.3 & 0.0 & -0.8 & 1.4 & 4.2 & -1.4 \\\\\n",
    " 0.0 & 0.0 & 0.0 & 0.0 & 0.0 & 0.0 & 0.0 & 0.0 & 0.0 & 0.0 & 1.4 & -2.5 & -1.4 & 2.5 \\\\\n",
    "\\end{array}\\right]~\\frac{1}{m}$"
   ]
  },
  {
   "cell_type": "code",
   "execution_count": 1,
   "id": "cacbcf9c",
   "metadata": {},
   "outputs": [],
   "source": [
    "import numpy as np\n",
    "import matplotlib.pyplot as plt\n",
    "from scipy.linalg import lu\n",
    "from scipy.integrate import solve_ivp\n",
    "plt.style.use('fivethirtyeight')"
   ]
  },
  {
   "cell_type": "code",
   "execution_count": 2,
   "id": "2bef5b1f",
   "metadata": {},
   "outputs": [
    {
     "data": {
      "text/plain": [
       "array([[ 0.00416667,  0.00144338, -0.00083333, -0.00144338, -0.00333333,\n",
       "         0.        ,  0.        ,  0.        ,  0.        ,  0.        ,\n",
       "         0.        ,  0.        ,  0.        ,  0.        ],\n",
       "       [ 0.00144338,  0.0025    , -0.00144338, -0.0025    ,  0.        ,\n",
       "         0.        ,  0.        ,  0.        ,  0.        ,  0.        ,\n",
       "         0.        ,  0.        ,  0.        ,  0.        ],\n",
       "       [-0.00083333, -0.00144338,  0.005     ,  0.        , -0.00083333,\n",
       "         0.00144338, -0.00333333,  0.        ,  0.        ,  0.        ,\n",
       "         0.        ,  0.        ,  0.        ,  0.        ],\n",
       "       [-0.00144338, -0.0025    ,  0.        ,  0.005     ,  0.00144338,\n",
       "        -0.0025    ,  0.        ,  0.        ,  0.        ,  0.        ,\n",
       "         0.        ,  0.        ,  0.        ,  0.        ],\n",
       "       [-0.00333333,  0.        , -0.00083333,  0.00144338,  0.00833333,\n",
       "         0.        , -0.00083333, -0.00144338, -0.00333333,  0.        ,\n",
       "         0.        ,  0.        ,  0.        ,  0.        ],\n",
       "       [ 0.        ,  0.        ,  0.00144338, -0.0025    ,  0.        ,\n",
       "         0.005     , -0.00144338, -0.0025    ,  0.        ,  0.        ,\n",
       "         0.        ,  0.        ,  0.        ,  0.        ],\n",
       "       [ 0.        ,  0.        , -0.00333333,  0.        , -0.00083333,\n",
       "        -0.00144338,  0.00833333,  0.        , -0.00083333,  0.00144338,\n",
       "        -0.00333333,  0.        ,  0.        ,  0.        ],\n",
       "       [ 0.        ,  0.        ,  0.        ,  0.        , -0.00144338,\n",
       "        -0.0025    ,  0.        ,  0.005     ,  0.00144338, -0.0025    ,\n",
       "         0.        ,  0.        ,  0.        ,  0.        ],\n",
       "       [ 0.        ,  0.        ,  0.        ,  0.        , -0.00333333,\n",
       "         0.        , -0.00083333,  0.00144338,  0.00833333,  0.        ,\n",
       "        -0.00083333, -0.00144338, -0.00333333,  0.        ],\n",
       "       [ 0.        ,  0.        ,  0.        ,  0.        ,  0.        ,\n",
       "         0.        ,  0.00144338, -0.0025    ,  0.        ,  0.005     ,\n",
       "        -0.00144338, -0.0025    ,  0.        ,  0.        ],\n",
       "       [ 0.        ,  0.        ,  0.        ,  0.        ,  0.        ,\n",
       "         0.        , -0.00333333,  0.        , -0.00083333, -0.00144338,\n",
       "         0.005     ,  0.        , -0.00083333,  0.00144338],\n",
       "       [ 0.        ,  0.        ,  0.        ,  0.        ,  0.        ,\n",
       "         0.        ,  0.        ,  0.        , -0.00144338, -0.0025    ,\n",
       "         0.        ,  0.005     ,  0.00144338, -0.0025    ],\n",
       "       [ 0.        ,  0.        ,  0.        ,  0.        ,  0.        ,\n",
       "         0.        ,  0.        ,  0.        , -0.00333333,  0.        ,\n",
       "        -0.00083333,  0.00144338,  0.00416667, -0.00144338],\n",
       "       [ 0.        ,  0.        ,  0.        ,  0.        ,  0.        ,\n",
       "         0.        ,  0.        ,  0.        ,  0.        ,  0.        ,\n",
       "         0.00144338, -0.0025    , -0.00144338,  0.0025    ]])"
      ]
     },
     "execution_count": 2,
     "metadata": {},
     "output_type": "execute_result"
    }
   ],
   "source": [
    "fea_arrays = np.load('./fea_arrays.npz')\n",
    "K=fea_arrays['K']\n",
    "K"
   ]
  },
  {
   "cell_type": "markdown",
   "id": "03923996",
   "metadata": {},
   "source": [
    "In this project we are solving the problem, $\\mathbf{F}=\\mathbf{Ku}$, where $\\mathbf{F}$ is measured in Newtons, $\\mathbf{K}$ `=E*A*K` is the stiffness in N/mm, `E` is Young's modulus measured in MPa (N/mm^2), and `A` is the cross-sectional area of the beam measured in mm^2. \n",
    "\n",
    "There are three constraints on the motion of the joints:\n",
    "\n",
    "i. node 1 displacement in the x-direction is 0 = `u[0]`\n",
    "\n",
    "ii. node 1 displacement in the y-direction is 0 = `u[1]`\n",
    "\n",
    "iii. node 7 displacement in the y-direction is 0 = `u[13]`\n",
    "\n",
    "We can satisfy these constraints by leaving out the first, second, and last rows and columns from our linear algebra description."
   ]
  },
  {
   "cell_type": "markdown",
   "id": "17fd0d50",
   "metadata": {},
   "source": [
    "### 1. Calculate the condition of `K` and the condition of `K[2:13,2:13]`. \n",
    "\n",
    "a. What error would you expect when you solve for `u` in `K*u = F`? \n",
    "\n",
    "b. Why is the condition of `K` so large? __The problem is underconstrained. It describes stiffness of structure, but not the BC's. So, we end up with sumF=0 and -sumF=0__\n",
    "\n",
    "c. What error would you expect when you solve for `u[2:13]` in `K[2:13,2:13]*u=F[2:13]`"
   ]
  },
  {
   "cell_type": "code",
   "execution_count": 3,
   "id": "70e1e012",
   "metadata": {},
   "outputs": [
    {
     "name": "stdout",
     "output_type": "stream",
     "text": [
      "1.4577532625238035e+17\n",
      "52.23542514351006\n",
      "expected error in x=solve(K,b) is 10\n",
      "expected error in x=solve(K[2:13,2:13],b) is 1e-15\n"
     ]
    }
   ],
   "source": [
    "print(np.linalg.cond(K))\n",
    "print(np.linalg.cond(K[2:13,2:13]))\n",
    "\n",
    "#part a and c\n",
    "print('expected error in x=solve(K,b) is {}'.format(10**(17-16)))\n",
    "print('expected error in x=solve(K[2:13,2:13],b) is {}'.format(10**(1-16)))"
   ]
  },
  {
   "cell_type": "markdown",
   "id": "0d634e79",
   "metadata": {},
   "source": [
    "Part b: K is large because the problem is underconstrained. It describes stiffness of structure, but not the BC's. So, we end up with sumF=0 and -sumF=0."
   ]
  },
  {
   "cell_type": "markdown",
   "id": "74abf313",
   "metadata": {},
   "source": [
    "### 2. Apply a 300-N downward force to the central top node (n 4)\n",
    "\n",
    "a. Create the LU matrix for K[2:13,2:13]\n",
    "\n",
    "b. Use cross-sectional area of $0.1~mm^2$ and steel and almuminum moduli, $E=200~GPa~and~E=70~GPa,$ respectively. Solve the forward and backward substitution methods for \n",
    "\n",
    "* $\\mathbf{Ly}=\\mathbf{F}\\frac{1}{EA}$\n",
    "\n",
    "* $\\mathbf{Uu}=\\mathbf{y}$\n",
    "\n",
    "_your array `F` is zeros, except for `F[5]=-300`, to create a -300 N load at node 4._\n",
    "\n",
    "c. Plug in the values for $\\mathbf{u}$ into the full equation, $\\mathbf{Ku}=\\mathbf{F}$, to solve for the reaction forces\n",
    "\n",
    "d. Create a plot of the undeformed and deformed structure with the displacements and forces plotted as vectors (via `quiver`). Your result for aluminum should match the following result from [extra-FEA_material](./extra-FEA_material.ipynb). _note: The scale factor is applied to displacements $\\mathbf{u}$, not forces._\n",
    "\n",
    "> __Note__: Look at the [extra FEA material](./extra-FEA_material). It\n",
    "> has example code that you can plug in here to make these plots.\n",
    "> Including background information and the source code for this plot\n",
    "> below.\n",
    "\n",
    "\n",
    "![Deformed structure with loads applied](../images/deformed_truss.png)"
   ]
  },
  {
   "cell_type": "code",
   "execution_count": 4,
   "id": "49a301c6",
   "metadata": {},
   "outputs": [],
   "source": [
    "#part a\n",
    "K1 = K[2:13,2:13]\n",
    "P, L, U= lu(K1)\n",
    "\n",
    "E_st = 200e3\n",
    "E_al = 70e3\n",
    "A = 0.1\n",
    "F= np.zeros(len(L))\n",
    "F[5]= -300\n",
    "F_st = F/(E_st*A)\n",
    "F_al = F/(E_al*A)\n",
    "\n",
    "#part b\n",
    "u1=np.zeros(14)\n",
    "u2=np.zeros(14)\n",
    "\n",
    "y_st = np.linalg.solve(L, F_st)\n",
    "u_st = np.linalg.solve(U, y_st)\n",
    "u1[2:13]=u_st\n",
    "\n",
    "y_al = np.linalg.solve(L, F_al)\n",
    "u_al = np.linalg.solve(U, y_al)\n",
    "u2[2:13]=u_al\n",
    "\n",
    "#part c\n",
    "F_st1 = E_st*A*K@u1\n",
    "F_al1 = E_al*A*K@u2"
   ]
  },
  {
   "cell_type": "code",
   "execution_count": 5,
   "id": "1f9a835f",
   "metadata": {},
   "outputs": [
    {
     "name": "stdout",
     "output_type": "stream",
     "text": [
      "displacements steel:\n",
      "----------------\n",
      "u_1x:0.00 mm\n",
      "u_1y:0.00 mm\n",
      "u_2x:5.85 mm\n",
      "u_2y:-6.37 mm\n",
      "u_3x:1.30 mm\n",
      "u_3y:-12.00 mm\n",
      "u_4x:3.25 mm\n",
      "u_4y:-16.12 mm\n",
      "u_5x:5.20 mm\n",
      "u_5y:-12.00 mm\n",
      "u_6x:0.65 mm\n",
      "u_6y:-6.37 mm\n",
      "u_7x:6.50 mm\n",
      "u_7y:0.00 mm\n",
      "\n",
      "forces steel:\n",
      "----------------\n",
      "F_1x:-0.00 N\n",
      "F_1y:150.00 N\n",
      "F_2x:0.00 N\n",
      "F_2y:0.00 N\n",
      "F_3x:0.00 N\n",
      "F_3y:-0.00 N\n",
      "F_4x:-0.00 N\n",
      "F_4y:-300.00 N\n",
      "F_5x:-0.00 N\n",
      "F_5y:-0.00 N\n",
      "F_6x:0.00 N\n",
      "F_6y:0.00 N\n",
      "F_7x:-0.00 N\n",
      "F_7y:150.00 N\n",
      "\n",
      "displacements aluminum:\n",
      "----------------\n",
      "u_1x:0.00 mm\n",
      "u_1y:0.00 mm\n",
      "u_2x:16.70 mm\n",
      "u_2y:-18.21 mm\n",
      "u_3x:3.71 mm\n",
      "u_3y:-34.29 mm\n",
      "u_4x:9.28 mm\n",
      "u_4y:-46.07 mm\n",
      "u_5x:14.85 mm\n",
      "u_5y:-34.29 mm\n",
      "u_6x:1.86 mm\n",
      "u_6y:-18.21 mm\n",
      "u_7x:18.56 mm\n",
      "u_7y:0.00 mm\n",
      "\n",
      "forces aluminum:\n",
      "----------------\n",
      "F_1x:-0.00 N\n",
      "F_1y:150.00 N\n",
      "F_2x:-0.00 N\n",
      "F_2y:0.00 N\n",
      "F_3x:0.00 N\n",
      "F_3y:-0.00 N\n",
      "F_4x:-0.00 N\n",
      "F_4y:-300.00 N\n",
      "F_5x:0.00 N\n",
      "F_5y:-0.00 N\n",
      "F_6x:-0.00 N\n",
      "F_6y:0.00 N\n",
      "F_7x:0.00 N\n",
      "F_7y:150.00 N\n"
     ]
    }
   ],
   "source": [
    "xy_st={0:'x',1:'y'}\n",
    "xy_al={0:'x',1:'y'}\n",
    "print('displacements steel:\\n----------------')\n",
    "for i in range(len(u1)):\n",
    "    print('u_{}{}:{:.2f} mm'.format(int(i/2)+1,xy_st[i%2],u1[i]))\n",
    "print('\\nforces steel:\\n----------------')\n",
    "for i in range(len(F_st1)):\n",
    "    print('F_{}{}:{:.2f} N'.format(int(i/2)+1,xy_st[i%2],F_st1[i]))\n",
    "    \n",
    "    \n",
    "print('\\ndisplacements aluminum:\\n----------------')\n",
    "for i in range(len(u2)):\n",
    "    print('u_{}{}:{:.2f} mm'.format(int(i/2)+1,xy_al[i%2],u2[i]))\n",
    "print('\\nforces aluminum:\\n----------------')\n",
    "for i in range(len(F_st1)):\n",
    "    print('F_{}{}:{:.2f} N'.format(int(i/2)+1,xy_al[i%2],F_al1[i]))"
   ]
  },
  {
   "cell_type": "code",
   "execution_count": 6,
   "id": "7c67d722",
   "metadata": {},
   "outputs": [
    {
     "data": {
      "image/png": "[encoded data removed]",
      "text/plain": [
       "<Figure size 432x288 with 1 Axes>"
      ]
     },
     "metadata": {
      "filenames": {
       "image/png": "/home/runner/work/computational-mechanics/computational-mechanics/_build/jupyter_execute/projects/04_Linear_Algebra-project_12_0.png"
      }
     },
     "output_type": "display_data"
    }
   ],
   "source": [
    "#part d\n",
    "from __future__ import print_function\n",
    "from ipywidgets import interact, interactive, fixed, interact_manual\n",
    "import ipywidgets as widgets\n",
    "\n",
    "l=300 # mm\n",
    "nodes = np.array([[1,0,0],[2,0.5,3**0.5/2],[3,1,0],[4,1.5,3**0.5/2],[5,2,0],[6,2.5,3**0.5/2],[7,3,0]])\n",
    "nodes[:,1:3]*=l\n",
    "elems = np.array([[1,1,2],[2,2,3],[3,1,3],[4,2,4],[5,3,4],[6,3,5],[7,4,5],[8,4,6],[9,5,6],[10,5,7],[11,6,7]])\n",
    "\n",
    "ix = 2*np.block([[np.arange(0,5)],[np.arange(1,6)],[np.arange(2,7)],[np.arange(0,5)]])\n",
    "iy = ix+1\n",
    "\n",
    "r = np.block([n[1:3] for n in nodes])\n",
    "\n",
    "def f(s,x):\n",
    "    if x ==1:\n",
    "        plt.plot(r[ix],r[iy],'-',color=(0,0,0,1))\n",
    "        plt.plot(r[ix]+u1[ix]*s,r[iy]+u1[iy]*s,'-',color=(1,0,0,1))\n",
    "        #plt.quiver(r[ix],r[iy],u[ix],u[iy],color=(0,0,1,1),label='displacements')\n",
    "        plt.quiver(r[ix],r[iy],F_st1[ix],F_st1[iy],color=(1,0,0,1),label='applied forces')\n",
    "        plt.quiver(r[ix],r[iy],u1[ix],u1[iy],color=(0,0,1,1),label='displacements')\n",
    "        plt.axis(l*np.array([-0.5,3.5,-0.5,2]))\n",
    "        plt.xlabel('x (mm)')\n",
    "        plt.ylabel('y (mm)')\n",
    "        plt.title('Steel Deformation scale = {:.1f}x'.format(s))\n",
    "        plt.legend(bbox_to_anchor=(1,0.5))\n",
    "    else:\n",
    "        plt.plot(r[ix],r[iy],'-',color=(0,0,0,1))\n",
    "        plt.plot(r[ix]+u2[ix]*s,r[iy]+u2[iy]*s,'-',color=(1,0,0,1))\n",
    "        #plt.quiver(r[ix],r[iy],u[ix],u[iy],color=(0,0,1,1),label='displacements')\n",
    "        plt.quiver(r[ix],r[iy],F_al1[ix],F_al1[iy],color=(1,0,0,1),label='applied forces')\n",
    "        plt.quiver(r[ix],r[iy],u2[ix],u2[iy],color=(0,0,1,1),label='displacements')\n",
    "        plt.axis(l*np.array([-0.5,3.5,-0.5,2]))\n",
    "        plt.xlabel('x (mm)')\n",
    "        plt.ylabel('y (mm)')\n",
    "        plt.title('Aluminum Deformation scale = {:.1f}x'.format(s))\n",
    "        plt.legend(bbox_to_anchor=(1,0.5))\n",
    "\n",
    "f(5,1)"
   ]
  },
  {
   "cell_type": "code",
   "execution_count": 7,
   "id": "6d1552e6",
   "metadata": {},
   "outputs": [
    {
     "data": {
      "image/png": "[encoded data removed]",
      "text/plain": [
       "<Figure size 432x288 with 1 Axes>"
      ]
     },
     "metadata": {
      "filenames": {
       "image/png": "/home/runner/work/computational-mechanics/computational-mechanics/_build/jupyter_execute/projects/04_Linear_Algebra-project_13_0.png"
      }
     },
     "output_type": "display_data"
    }
   ],
   "source": [
    "f(5,2)"
   ]
  },
  {
   "cell_type": "markdown",
   "id": "63a53913",
   "metadata": {},
   "source": [
    "### 3. Determine cross-sectional area\n",
    "\n",
    "a. Using aluminum, what is the minimum cross-sectional area to keep total y-deflections $<0.2~mm$?\n",
    "\n",
    "b. Using steel, what is the minimum cross-sectional area to keep total y-deflections $<0.2~mm$?\n",
    "\n",
    "c. What are the weights of the aluminum and steel trusses with the\n",
    "chosen cross-sectional areas?"
   ]
  },
  {
   "cell_type": "code",
   "execution_count": 8,
   "id": "8f6b501f",
   "metadata": {},
   "outputs": [],
   "source": [
    "#part a\n",
    "def steel_deflec(Area):\n",
    "    A = Area\n",
    "    E=200e3\n",
    "    Ff=np.zeros(2*len(nodes)-3)\n",
    "    Ff[5]=-300\n",
    "    # step 1 solve for uf (the joints without constraints)\n",
    "    uf = np.linalg.solve(E*A*K[2:13,2:13],Ff)\n",
    "    u=np.zeros(2*len(nodes))\n",
    "    u[2:13]=uf\n",
    "    y_deflect = np.max(np.abs(u[1::2]))\n",
    "    error = .2 - y_deflect\n",
    "    return error\n",
    "\n",
    "def aluminum_deflec(Area):\n",
    "    A = Area\n",
    "    E=70e3\n",
    "    Ff=np.zeros(2*len(nodes)-3)\n",
    "    Ff[5]=-300\n",
    "    # step 1 solve for uf (the joints without constraints)\n",
    "    uf = np.linalg.solve(E*A*K[2:13,2:13],Ff)\n",
    "    u=np.zeros(2*len(nodes))\n",
    "    u[2:13]=uf\n",
    "    y_deflect = np.max(np.abs(u[1::2]))\n",
    "    error = .2 - y_deflect\n",
    "    return error"
   ]
  },
  {
   "cell_type": "code",
   "execution_count": 9,
   "id": "b25d92a7",
   "metadata": {},
   "outputs": [],
   "source": [
    "def mod_secant(func,dx,x0,es=0.0001,maxit=50):\n",
    "    '''mod_secant: Modified secant root location zeroes\n",
    "    root,[fx,ea,iter]=mod_secant(func,dfunc,xr,es,maxit,p1,p2,...):\n",
    "    uses modified secant method to find the root of func\n",
    "    arguments:\n",
    "    ----------\n",
    "    func = name of function\n",
    "    dx = perturbation fraction\n",
    "    xr = initial guess\n",
    "    es = desired relative error (default = 0.0001 )\n",
    "    maxit = maximum allowable iterations (default = 50)\n",
    "    p1,p2,... = additional parameters used by function\n",
    "    returns:\n",
    "    --------\n",
    "    root = real root\n",
    "    fx = func evaluated at root\n",
    "    ea = approximate relative error ( )\n",
    "    iter = number of iterations'''\n",
    "\n",
    "    iter = 0;\n",
    "    xr=x0\n",
    "    for iter in range(0,maxit):\n",
    "        xrold = xr;\n",
    "        dfunc=(func(xr+dx)-func(xr))/dx;\n",
    "        xr = xr - func(xr)/dfunc;\n",
    "        if xr != 0:\n",
    "            ea = abs((xr - xrold)/xr) * 100;\n",
    "        else:\n",
    "            ea = abs((xr - xrold)/1) * 100;\n",
    "        if ea <= es:\n",
    "            break\n",
    "    return xr,[func(xr),ea,iter]"
   ]
  },
  {
   "cell_type": "code",
   "execution_count": 10,
   "id": "1e6af73d",
   "metadata": {},
   "outputs": [
    {
     "name": "stdout",
     "output_type": "stream",
     "text": [
      "Steel minimum cross-sectional area: 8.1 mm^2\n",
      "Aluminum minimum cross-sectional area: 23.0 mm^2\n"
     ]
    }
   ],
   "source": [
    "#part a and b\n",
    "step_size = .00001\n",
    "a = np.linspace(0,2,100,endpoint=False)\n",
    "err_modsec1=np.zeros(len(a))\n",
    "err_modsec2=np.zeros(len(a))\n",
    "\n",
    "root1,out1 = mod_secant(steel_deflec,step_size,.1,es=0)\n",
    "    \n",
    "root2,out2 = mod_secant(aluminum_deflec,step_size,.1,es=0)\n",
    "\n",
    "print('Steel minimum cross-sectional area: {:.1f} mm^2'.format(root1))\n",
    "print('Aluminum minimum cross-sectional area: {:.1f} mm^2'.format(root2))"
   ]
  },
  {
   "cell_type": "code",
   "execution_count": 11,
   "id": "0dd101d1",
   "metadata": {},
   "outputs": [
    {
     "name": "stdout",
     "output_type": "stream",
     "text": [
      "Weight of steel truss: 2.1 Newtons\n",
      "Weight of aluminum truss: 2.0 Newtons\n"
     ]
    }
   ],
   "source": [
    "rho_st = 0.00805 #g/mm^3\n",
    "rho_al = 0.0027 #g/mm^3\n",
    "g = 9.81\n",
    "n = 11\n",
    "v_st = root1*n*l\n",
    "v_al = root2*n*l\n",
    "\n",
    "st_weight = v_st*rho_st*g/1000\n",
    "al_weight = v_al*rho_al*g/1000\n",
    "\n",
    "print('Weight of steel truss: {:.1f} Newtons'.format(st_weight))\n",
    "print('Weight of aluminum truss: {:.1f} Newtons'.format(al_weight))"
   ]
  },
  {
   "cell_type": "markdown",
   "id": "c770d9f3",
   "metadata": {},
   "source": [
    "## References\n",
    "\n",
    "1. <https://en.wikipedia.org/wiki/Direct_stiffness_method>"
   ]
  }
 ],
 "metadata": {
  "jupytext": {
   "formats": "notebooks//ipynb,md:myst",
   "text_representation": {
    "extension": ".md",
    "format_name": "myst",
    "format_version": 0.13,
    "jupytext_version": "1.11.4"
   }
  },
  "kernelspec": {
   "display_name": "Python 3 (ipykernel)",
   "language": "python",
   "name": "python3"
  },
  "language_info": {
   "codemirror_mode": {
    "name": "ipython",
    "version": 3
   },
   "file_extension": ".py",
   "mimetype": "text/x-python",
   "name": "python",
   "nbconvert_exporter": "python",
   "pygments_lexer": "ipython3",
   "version": "3.9.9"
  },
  "source_map": [
   13,
   18,
   24,
   53,
   61,
   65,
   79,
   89,
   96,
   100,
   126,
   156,
   175,
   218,
   220,
   231,
   260,
   295,
   310,
   323
  ]
 },
 "nbformat": 4,
 "nbformat_minor": 5
}