{
 "cells": [
  {
   "cell_type": "markdown",
   "id": "1cfa630e",
   "metadata": {},
   "source": [
    "> __Content modified under Creative Commons Attribution license CC-BY\n",
    "> 4.0, code under BSD 3-Clause License © 2020 R.C. Cooper__"
   ]
  },
  {
   "cell_type": "markdown",
   "id": "4a673a38",
   "metadata": {},
   "source": [
    "# 01 - Cheers!  Stats with Beers\n",
    "\n",
    "\n",
    "Welcome to the second module in _Computational Mechanics_, your series in computational thinking for undergraduate engineering students. This module explores practical data and statistical analysis with Python.\n",
    "\n",
    "This first lesson explores how you can answer questions using data combined with practical methods from statistics.\n",
    "\n",
    "You'll need data. Here is a great data set of\n",
    "canned craft beers in the US, scraped from the web and cleaned up by\n",
    "Jean-Nicholas Hould\n",
    "([@NicholasHould](https://twitter.com/NicholasHould?lang=en) on\n",
    "Twitter)—who we want to thank for having a permissive license on his\n",
    "GitHub repository so we can reuse his\n",
    "[work](https://github.com/nickhould/craft-beers-dataset)!\n",
    "\n",
    "The data source ([@craftcans](https://twitter.com/craftcans) on Twitter)\n",
    "doesn't say that the set includes *all* the canned beers brewed in the\n",
    "country. So you have to asume that the data is a sample and may contain biases.\n",
    "\n",
    "You'll process the data using **NumPy**—the array library for Python\n",
    "that you learned about in [Module 1, lesson 2: Getting\n",
    "Started](../module_01/02-Getting-started).\n",
    "You'll also learn about a new Python library for data analysis called **Pandas**. \n",
    "\n",
    "[`pandas`](http://pandas.pydata.org/) is an open-source library\n",
    "providing high-performance, easy-to-use data structures and\n",
    "data-analysis tools.  Even though `pandas` is great for data analysis,\n",
    "you won't use all its functions in this lesson. But you'll learn more about it later on!\n",
    "\n",
    "You'll use `pandas` to read the data file (in `csv` format, for\n",
    "comma-separated values), display it in a table, and extract the\n",
    "columns that you need—which you'll convert to `numpy` arrays to work with.\n",
    "\n",
    "Start by importing the two Python libraries that you need."
   ]
  },
  {
   "cell_type": "code",
   "execution_count": 1,
   "id": "31c2095f",
   "metadata": {},
   "outputs": [],
   "source": [
    "import pandas as pd\n",
    "import numpy as np"
   ]
  },
  {
   "cell_type": "markdown",
   "id": "af0ee7ba",
   "metadata": {},
   "source": [
    "## Step 1: Read the data file\n",
    "\n",
    "Below, you'll take a peek into the data file, `beers.csv,` using the\n",
    "system command `head` (which you can use with a bang (`!`), thanks to IPython).\n",
    "\n",
    "But first, you will download the data using a Python library for opening\n",
    "a URL on the Internet. You created a short URL for the data file in the public repository with your course materials.\n",
    "\n",
    "The cell below should download the data in your current working directory. The next cell shows you the first few lines of the data."
   ]
  },
  {
   "cell_type": "code",
   "execution_count": 2,
   "id": "ca1395d7",
   "metadata": {},
   "outputs": [
    {
     "name": "stdout",
     "output_type": "stream",
     "text": [
      ",abv,ibu,id,name,style,brewery_id,ounces\r\n",
      "0,0.05,,1436,Pub Beer,American Pale Lager,408,12.0\r\n",
      "1,0.066,,2265,Devil's Cup,American Pale Ale (APA),177,12.0\r\n",
      "2,0.071,,2264,Rise of the Phoenix,American IPA,177,12.0\r\n",
      "3,0.09,,2263,Sinister,American Double / Imperial IPA,177,12.0\r\n",
      "4,0.075,,2262,Sex and Candy,American IPA,177,12.0\r\n",
      "5,0.077,,2261,Black Exodus,Oatmeal Stout,177,12.0\r\n",
      "6,0.045,,2260,Lake Street Express,American Pale Ale (APA),177,12.0\r\n",
      "7,0.065,,2259,Foreman,American Porter,177,12.0\r\n",
      "8,0.055,,2258,Jade,American Pale Ale (APA),177,12.0\r\n"
     ]
    }
   ],
   "source": [
    "!head \"../data/beers.csv\""
   ]
  },
  {
   "cell_type": "markdown",
   "id": "1e1c5539",
   "metadata": {},
   "source": [
    "You can use `pandas` to read the data from the `csv` file, and save it\n",
    "into a new variable called `beers`. Let's then check the type of this\n",
    "new variable—rememeber that you can use the function `type()` to do this."
   ]
  },
  {
   "cell_type": "code",
   "execution_count": 3,
   "id": "cf7e15b9",
   "metadata": {},
   "outputs": [],
   "source": [
    "beers = pd.read_csv('../data/beers.csv')"
   ]
  },
  {
   "cell_type": "code",
   "execution_count": 4,
   "id": "09fbc105",
   "metadata": {},
   "outputs": [
    {
     "data": {
      "text/plain": [
       "pandas.core.frame.DataFrame"
      ]
     },
     "execution_count": 4,
     "metadata": {},
     "output_type": "execute_result"
    }
   ],
   "source": [
    "type(beers)"
   ]
  },
  {
   "cell_type": "markdown",
   "id": "d5da6a51",
   "metadata": {},
   "source": [
    "This is a new data type for us: a `pandas DataFrame`. From the `pandas` documentation: \"A `DataFrame`  is a 2-dimensional labeled data structure with columns of potentially different types\" [4]. You can think of it as the contens of a spreadsheet, saved into one handy Python variable. If you print it out, you get a nicely laid-out table:"
   ]
  },
  {
   "cell_type": "code",
   "execution_count": 5,
   "id": "586b1722",
   "metadata": {},
   "outputs": [
    {
     "data": {
      "text/html": [
       "<div>\n",
       "<style scoped>\n",
       "    .dataframe tbody tr th:only-of-type {\n",
       "        vertical-align: middle;\n",
       "    }\n",
       "\n",
       "    .dataframe tbody tr th {\n",
       "        vertical-align: top;\n",
       "    }\n",
       "\n",
       "    .dataframe thead th {\n",
       "        text-align: right;\n",
       "    }\n",
       "</style>\n",
       "<table border=\"1\" class=\"dataframe\">\n",
       "  <thead>\n",
       "    <tr style=\"text-align: right;\">\n",
       "      <th></th>\n",
       "      <th>Unnamed: 0</th>\n",
       "      <th>abv</th>\n",
       "      <th>ibu</th>\n",
       "      <th>id</th>\n",
       "      <th>name</th>\n",
       "      <th>style</th>\n",
       "      <th>brewery_id</th>\n",
       "      <th>ounces</th>\n",
       "    </tr>\n",
       "  </thead>\n",
       "  <tbody>\n",
       "    <tr>\n",
       "      <th>0</th>\n",
       "      <td>0</td>\n",
       "      <td>0.050</td>\n",
       "      <td>NaN</td>\n",
       "      <td>1436</td>\n",
       "      <td>Pub Beer</td>\n",
       "      <td>American Pale Lager</td>\n",
       "      <td>408</td>\n",
       "      <td>12.0</td>\n",
       "    </tr>\n",
       "    <tr>\n",
       "      <th>1</th>\n",
       "      <td>1</td>\n",
       "      <td>0.066</td>\n",
       "      <td>NaN</td>\n",
       "      <td>2265</td>\n",
       "      <td>Devil's Cup</td>\n",
       "      <td>American Pale Ale (APA)</td>\n",
       "      <td>177</td>\n",
       "      <td>12.0</td>\n",
       "    </tr>\n",
       "    <tr>\n",
       "      <th>2</th>\n",
       "      <td>2</td>\n",
       "      <td>0.071</td>\n",
       "      <td>NaN</td>\n",
       "      <td>2264</td>\n",
       "      <td>Rise of the Phoenix</td>\n",
       "      <td>American IPA</td>\n",
       "      <td>177</td>\n",
       "      <td>12.0</td>\n",
       "    </tr>\n",
       "    <tr>\n",
       "      <th>3</th>\n",
       "      <td>3</td>\n",
       "      <td>0.090</td>\n",
       "      <td>NaN</td>\n",
       "      <td>2263</td>\n",
       "      <td>Sinister</td>\n",
       "      <td>American Double / Imperial IPA</td>\n",
       "      <td>177</td>\n",
       "      <td>12.0</td>\n",
       "    </tr>\n",
       "    <tr>\n",
       "      <th>4</th>\n",
       "      <td>4</td>\n",
       "      <td>0.075</td>\n",
       "      <td>NaN</td>\n",
       "      <td>2262</td>\n",
       "      <td>Sex and Candy</td>\n",
       "      <td>American IPA</td>\n",
       "      <td>177</td>\n",
       "      <td>12.0</td>\n",
       "    </tr>\n",
       "    <tr>\n",
       "      <th>...</th>\n",
       "      <td>...</td>\n",
       "      <td>...</td>\n",
       "      <td>...</td>\n",
       "      <td>...</td>\n",
       "      <td>...</td>\n",
       "      <td>...</td>\n",
       "      <td>...</td>\n",
       "      <td>...</td>\n",
       "    </tr>\n",
       "    <tr>\n",
       "      <th>2402</th>\n",
       "      <td>2405</td>\n",
       "      <td>0.067</td>\n",
       "      <td>45.0</td>\n",
       "      <td>928</td>\n",
       "      <td>Belgorado</td>\n",
       "      <td>Belgian IPA</td>\n",
       "      <td>424</td>\n",
       "      <td>12.0</td>\n",
       "    </tr>\n",
       "    <tr>\n",
       "      <th>2403</th>\n",
       "      <td>2406</td>\n",
       "      <td>0.052</td>\n",
       "      <td>NaN</td>\n",
       "      <td>807</td>\n",
       "      <td>Rail Yard Ale</td>\n",
       "      <td>American Amber / Red Ale</td>\n",
       "      <td>424</td>\n",
       "      <td>12.0</td>\n",
       "    </tr>\n",
       "    <tr>\n",
       "      <th>2404</th>\n",
       "      <td>2407</td>\n",
       "      <td>0.055</td>\n",
       "      <td>NaN</td>\n",
       "      <td>620</td>\n",
       "      <td>B3K Black Lager</td>\n",
       "      <td>Schwarzbier</td>\n",
       "      <td>424</td>\n",
       "      <td>12.0</td>\n",
       "    </tr>\n",
       "    <tr>\n",
       "      <th>2405</th>\n",
       "      <td>2408</td>\n",
       "      <td>0.055</td>\n",
       "      <td>40.0</td>\n",
       "      <td>145</td>\n",
       "      <td>Silverback Pale Ale</td>\n",
       "      <td>American Pale Ale (APA)</td>\n",
       "      <td>424</td>\n",
       "      <td>12.0</td>\n",
       "    </tr>\n",
       "    <tr>\n",
       "      <th>2406</th>\n",
       "      <td>2409</td>\n",
       "      <td>0.052</td>\n",
       "      <td>NaN</td>\n",
       "      <td>84</td>\n",
       "      <td>Rail Yard Ale (2009)</td>\n",
       "      <td>American Amber / Red Ale</td>\n",
       "      <td>424</td>\n",
       "      <td>12.0</td>\n",
       "    </tr>\n",
       "  </tbody>\n",
       "</table>\n",
       "<p>2407 rows × 8 columns</p>\n",
       "</div>"
      ],
      "text/plain": [
       "      Unnamed: 0    abv   ibu    id                  name  \\\n",
       "0              0  0.050   NaN  1436              Pub Beer   \n",
       "1              1  0.066   NaN  2265           Devil's Cup   \n",
       "2              2  0.071   NaN  2264   Rise of the Phoenix   \n",
       "3              3  0.090   NaN  2263              Sinister   \n",
       "4              4  0.075   NaN  2262         Sex and Candy   \n",
       "...          ...    ...   ...   ...                   ...   \n",
       "2402        2405  0.067  45.0   928             Belgorado   \n",
       "2403        2406  0.052   NaN   807         Rail Yard Ale   \n",
       "2404        2407  0.055   NaN   620       B3K Black Lager   \n",
       "2405        2408  0.055  40.0   145   Silverback Pale Ale   \n",
       "2406        2409  0.052   NaN    84  Rail Yard Ale (2009)   \n",
       "\n",
       "                               style  brewery_id  ounces  \n",
       "0                American Pale Lager         408    12.0  \n",
       "1            American Pale Ale (APA)         177    12.0  \n",
       "2                       American IPA         177    12.0  \n",
       "3     American Double / Imperial IPA         177    12.0  \n",
       "4                       American IPA         177    12.0  \n",
       "...                              ...         ...     ...  \n",
       "2402                     Belgian IPA         424    12.0  \n",
       "2403        American Amber / Red Ale         424    12.0  \n",
       "2404                     Schwarzbier         424    12.0  \n",
       "2405         American Pale Ale (APA)         424    12.0  \n",
       "2406        American Amber / Red Ale         424    12.0  \n",
       "\n",
       "[2407 rows x 8 columns]"
      ]
     },
     "execution_count": 5,
     "metadata": {},
     "output_type": "execute_result"
    }
   ],
   "source": [
    "beers"
   ]
  },
  {
   "cell_type": "markdown",
   "id": "6489356b",
   "metadata": {},
   "source": [
    "Inspect the table above. The first column is a numbering scheme for the beers. The other columns contain the following data:\n",
    "\n",
    "- `abv`: Alcohol-by-volume of the beer.\n",
    "- `ibu`: International Bittering Units of the beer.\n",
    "- `id`: Unique identifier of the beer.\n",
    "- `name`: Name of the beer.\n",
    "- `style`: Style of the beer.\n",
    "- `brewery_id`: Unique identifier of the brewery.\n",
    "- `ounces`: Ounces of beer in the can."
   ]
  },
  {
   "cell_type": "markdown",
   "id": "bc5b8672",
   "metadata": {},
   "source": [
    "## Step 2: Explore the data\n",
    "\n",
    "In the field of statistics, [Exploratory Data Analysis](https://en.wikipedia.org/wiki/Exploratory_data_analysis) (EDA) has the goal of summarizing the main features of your data, and seeing what the data can tell us without formal modeling or hypothesis-testing. [2]\n",
    "\n",
    "Let's start by extracting the columns with the `abv` and `ibu` values,\n",
    "and converting them to numpy arrays. One of the advantages of data\n",
    "frames in `pandas` is that you can access a column simply using its header, like this:\n",
    "\n",
    "```python\n",
    "data_frame['name_of_column']\n",
    "```\n",
    "\n",
    "The output of this action is a `pandas Series`. From the documentation: \"a `Series` is a 1-dimensional labeled array capable of holding any data type.\" [4]\n",
    "\n",
    "Check the type of a column extracted by header:"
   ]
  },
  {
   "cell_type": "code",
   "execution_count": 6,
   "id": "06364996",
   "metadata": {},
   "outputs": [
    {
     "data": {
      "text/plain": [
       "pandas.core.series.Series"
      ]
     },
     "execution_count": 6,
     "metadata": {},
     "output_type": "execute_result"
    }
   ],
   "source": [
    "type(beers['abv'])"
   ]
  },
  {
   "cell_type": "markdown",
   "id": "ace615ff",
   "metadata": {},
   "source": [
    "Of course, you can index and slice a data series like you know how to do\n",
    "with strings, lists and arrays. Here, you display the first ten elements of the `abv` series:"
   ]
  },
  {
   "cell_type": "code",
   "execution_count": 7,
   "id": "de5b4444",
   "metadata": {},
   "outputs": [
    {
     "data": {
      "text/plain": [
       "0    0.050\n",
       "1    0.066\n",
       "2    0.071\n",
       "3    0.090\n",
       "4    0.075\n",
       "5    0.077\n",
       "6    0.045\n",
       "7    0.065\n",
       "8    0.055\n",
       "9    0.086\n",
       "Name: abv, dtype: float64"
      ]
     },
     "execution_count": 7,
     "metadata": {},
     "output_type": "execute_result"
    }
   ],
   "source": [
    "beers['abv'][:10]"
   ]
  },
  {
   "cell_type": "markdown",
   "id": "e8755888",
   "metadata": {},
   "source": [
    "Inspect the data in the table again: you'll notice that there are `NaN` (not-a-number) elements in both the `abv` and `ibu` columns. Those values mean that there was no data reported for that beer. A typical task when cleaning up data is to deal with these pesky `NaN`s.\n",
    "\n",
    "Let's extract the two series corresponding to the `abv` and `ibu` columns, clean the data by removing all `NaN` values, and then access the values of each series and assign them to a numpy array."
   ]
  },
  {
   "cell_type": "code",
   "execution_count": 8,
   "id": "804fd9b8",
   "metadata": {},
   "outputs": [],
   "source": [
    "abv_series = beers['abv']"
   ]
  },
  {
   "cell_type": "code",
   "execution_count": 9,
   "id": "596f27dd",
   "metadata": {},
   "outputs": [
    {
     "data": {
      "text/plain": [
       "2407"
      ]
     },
     "execution_count": 9,
     "metadata": {},
     "output_type": "execute_result"
    }
   ],
   "source": [
    "len(abv_series)"
   ]
  },
  {
   "cell_type": "markdown",
   "id": "02179de7",
   "metadata": {},
   "source": [
    "Another advantage of `pandas` is that it has the ability to handle missing data. The  data-frame method `dropna()` returns a new data frame with only the good values of the original: all the null values are thrown out. This is super useful!"
   ]
  },
  {
   "cell_type": "code",
   "execution_count": 10,
   "id": "2a55d177",
   "metadata": {},
   "outputs": [],
   "source": [
    "abv_clean = abv_series.dropna()"
   ]
  },
  {
   "cell_type": "markdown",
   "id": "3b07811c",
   "metadata": {},
   "source": [
    "Check out the length of the cleaned-up `abv` data; you'll see that it's shorter than the original. `NaN`s gone!"
   ]
  },
  {
   "cell_type": "code",
   "execution_count": 11,
   "id": "9d59b7f9",
   "metadata": {},
   "outputs": [
    {
     "data": {
      "text/plain": [
       "2348"
      ]
     },
     "execution_count": 11,
     "metadata": {},
     "output_type": "execute_result"
    }
   ],
   "source": [
    "len(abv_clean)"
   ]
  },
  {
   "cell_type": "markdown",
   "id": "652e163f",
   "metadata": {},
   "source": [
    "Remember that a a `pandas` _Series_ consists of a column of values, and\n",
    "their labels. You can extract the values via the\n",
    "[`series.values`](https://pandas.pydata.org/pandas-docs/stable/generated/pandas.Series.values.html)\n",
    "attribute, which returns a `numpy.ndarray` (multidimensional array). In\n",
    "the case of the `abv_clean` series, you get a one-dimensional array. You save it into the variable name `abv`."
   ]
  },
  {
   "cell_type": "code",
   "execution_count": 12,
   "id": "f94e3950",
   "metadata": {},
   "outputs": [],
   "source": [
    "abv = abv_clean.values"
   ]
  },
  {
   "cell_type": "code",
   "execution_count": 13,
   "id": "cbc9c57d",
   "metadata": {},
   "outputs": [
    {
     "name": "stdout",
     "output_type": "stream",
     "text": [
      "[0.05  0.066 0.071 ... 0.055 0.055 0.052]\n"
     ]
    }
   ],
   "source": [
    "print(abv)"
   ]
  },
  {
   "cell_type": "code",
   "execution_count": 14,
   "id": "29ba2fbf",
   "metadata": {},
   "outputs": [
    {
     "data": {
      "text/plain": [
       "numpy.ndarray"
      ]
     },
     "execution_count": 14,
     "metadata": {},
     "output_type": "execute_result"
    }
   ],
   "source": [
    "type(abv)"
   ]
  },
  {
   "cell_type": "markdown",
   "id": "84e00dbe",
   "metadata": {},
   "source": [
    "Now, repeat the whole process for the `ibu` column: extract the column\n",
    "into a series, clean it up removing `NaN`s, extract the series values as\n",
    "an array, check how many values you lost."
   ]
  },
  {
   "cell_type": "code",
   "execution_count": 15,
   "id": "16ce31d4",
   "metadata": {},
   "outputs": [
    {
     "data": {
      "text/plain": [
       "2407"
      ]
     },
     "execution_count": 15,
     "metadata": {},
     "output_type": "execute_result"
    }
   ],
   "source": [
    "ibu_series = beers['ibu']\n",
    "\n",
    "len(ibu_series)"
   ]
  },
  {
   "cell_type": "code",
   "execution_count": 16,
   "id": "6016b4c6",
   "metadata": {},
   "outputs": [
    {
     "data": {
      "text/plain": [
       "1405"
      ]
     },
     "execution_count": 16,
     "metadata": {},
     "output_type": "execute_result"
    }
   ],
   "source": [
    "ibu_clean = ibu_series.dropna()\n",
    "\n",
    "ibu = ibu_clean.values\n",
    "len(ibu)"
   ]
  },
  {
   "cell_type": "markdown",
   "id": "5a6e46f2",
   "metadata": {},
   "source": [
    "## Exercise\n",
    "\n",
    "Write a Python function that calculates the percentage of missing values for a certain data series. Use the function to calculate the percentage of missing values for the `abv` and `ibu` data sets. \n",
    "\n",
    "For the original series, before cleaning, remember that you can access the values with `series.values` (e.g., `abv_series.values`)."
   ]
  },
  {
   "cell_type": "code",
   "execution_count": 17,
   "id": "4c5b9ac3",
   "metadata": {},
   "outputs": [
    {
     "name": "stdout",
     "output_type": "stream",
     "text": [
      "-2.451184046530951\n",
      "-41.628583298712094\n"
     ]
    }
   ],
   "source": [
    "print((len(abv) - len(abv_series))/len(abv_series)*100)\n",
    "print((len(ibu) - len(ibu_series))/len(ibu_series)*100)"
   ]
  },
  {
   "cell_type": "markdown",
   "id": "b042a5c6",
   "metadata": {},
   "source": [
    "> __Important__:\n",
    "> \n",
    "> Notice that in the case of the variable `ibu` you are missing almost 42%\n",
    "> of the values. This is important, because it will affect your analysis.\n",
    "> When you do descriptive statistics, you will ignore these missing\n",
    "> values, and having 42% missing will very likely cause bias."
   ]
  },
  {
   "cell_type": "markdown",
   "id": "21623a4f",
   "metadata": {},
   "source": [
    "## Step 3: Ready, stats, go!\n",
    "\n",
    "\n",
    "Now, that you have numpy arrays with clean data, let's see how you can\n",
    "process them to get some useful information. \n",
    "\n",
    "Focusing on the numerical variables `abv` and `ibu`, you'll walk through\n",
    "some \"descriptive statistics,\" below. In other words, you aim to generate\n",
    "statistics that summarize the data concisely."
   ]
  },
  {
   "cell_type": "markdown",
   "id": "8b54b487",
   "metadata": {},
   "source": [
    "### Maximum and minimum \n",
    "\n",
    "The maximum and minimum values of a dataset are helpful as they tell us\n",
    "the _range_ of your sample: the range gives some indication of the _variability_ in the data.\n",
    "You can obtain them for your `abv` and `ibu` arrays with the `min()` and `max()` functions from numpy."
   ]
  },
  {
   "cell_type": "markdown",
   "id": "047ef302",
   "metadata": {},
   "source": [
    "**abv**"
   ]
  },
  {
   "cell_type": "code",
   "execution_count": 18,
   "id": "5baba83c",
   "metadata": {},
   "outputs": [],
   "source": [
    "abv_min = np.min(abv)\n",
    "abv_max = np.max(abv)"
   ]
  },
  {
   "cell_type": "code",
   "execution_count": 19,
   "id": "3c58f4c4",
   "metadata": {},
   "outputs": [
    {
     "name": "stdout",
     "output_type": "stream",
     "text": [
      "The minimum value for abv is:  0.001\n",
      "The maximum value for abv is:  0.128\n"
     ]
    }
   ],
   "source": [
    "print('The minimum value for abv is: ', abv_min)\n",
    "print('The maximum value for abv is: ', abv_max)"
   ]
  },
  {
   "cell_type": "markdown",
   "id": "ac2cc58a",
   "metadata": {},
   "source": [
    "**ibu**"
   ]
  },
  {
   "cell_type": "code",
   "execution_count": 20,
   "id": "ea72e370",
   "metadata": {},
   "outputs": [],
   "source": [
    "ibu_min = np.min(ibu)\n",
    "ibu_max = np.max(ibu)"
   ]
  },
  {
   "cell_type": "code",
   "execution_count": 21,
   "id": "63be5a08",
   "metadata": {},
   "outputs": [
    {
     "name": "stdout",
     "output_type": "stream",
     "text": [
      "The minimum value for ibu is:  4.0\n",
      "The maximum value for ibu is:  138.0\n"
     ]
    }
   ],
   "source": [
    "print('The minimum value for ibu is: ', ibu_min)\n",
    "print('The maximum value for ibu is: ', ibu_max)"
   ]
  },
  {
   "cell_type": "markdown",
   "id": "b0a1c439",
   "metadata": {},
   "source": [
    "### Mean value\n",
    "\n",
    "The **mean** value is one of the main measures to describe the central\n",
    "tendency of the data: an indication of where's the \"center\" of the data.\n",
    "If you have a sample of $N$ values, $x_i$, the mean, $\\bar{x}$, is calculated by:\n",
    "\n",
    "$\\bar{x} = \\frac{1}{N}\\sum_{i} x_i$\n",
    "\n",
    "In words, that is the sum of the data values divided by the number of values, $N$. \n",
    "\n",
    "You've already learned how to write a function to compute the mean in\n",
    "[Module 1 Lesson 5](http://go.gwu.edu/engcomp1lesson5), but you also\n",
    "learned that numpy has a built-in `mean()` function. You'll use this to\n",
    "get the mean of the `abv` and `ibu` values."
   ]
  },
  {
   "cell_type": "code",
   "execution_count": 22,
   "id": "f636c9b6",
   "metadata": {},
   "outputs": [],
   "source": [
    "abv_mean = np.mean(abv)\n",
    "ibu_mean = np.mean(ibu)"
   ]
  },
  {
   "cell_type": "markdown",
   "id": "6ccd234c",
   "metadata": {},
   "source": [
    "Next, you'll print these two variables, but you'll use some fancy new way of printing with Python's string formatter, `string.format()`. There's a sweet site dedicated to Python's string formatter, called [PyFormat](https://pyformat.info), where you can learn lots of tricks!\n",
    "\n",
    "The basic trick is to use curly brackets `{}` as placeholder for a variable value that you want to print in the middle of a string (say, a sentence that explains what you are printing), and to pass the variable name as argument to `.format()`, preceded by the string.\n",
    "\n",
    "Let's try something out…"
   ]
  },
  {
   "cell_type": "code",
   "execution_count": 23,
   "id": "498edacb",
   "metadata": {},
   "outputs": [
    {
     "name": "stdout",
     "output_type": "stream",
     "text": [
      "The mean value for abv is 0.059773424190800666 and for ibu 42.71316725978647\n"
     ]
    }
   ],
   "source": [
    "print('The mean value for abv is {} and for ibu {}'.format(abv_mean, ibu_mean))"
   ]
  },
  {
   "cell_type": "markdown",
   "id": "96e259c1",
   "metadata": {},
   "source": [
    "Ugh! That doesn't look very good, does it? Here's where Python's string\n",
    "formatting gets fancy. You can print fewer decimal digits, so the\n",
    "sentence is more readable. For example, if you want to have four decimal\n",
    "digits, specify it this way:"
   ]
  },
  {
   "cell_type": "code",
   "execution_count": 24,
   "id": "b7688c08",
   "metadata": {},
   "outputs": [
    {
     "name": "stdout",
     "output_type": "stream",
     "text": [
      "The mean value for abv is 0.0598 and for ibu 42.7132\n"
     ]
    }
   ],
   "source": [
    "print('The mean value for abv is {:.4f} and for ibu {:.4f}'.format(abv_mean, ibu_mean))"
   ]
  },
  {
   "cell_type": "markdown",
   "id": "b810b28f",
   "metadata": {},
   "source": [
    "Inside the curly brackets—the placeholders for the values you want to print—the `f` is for `float` and the `.4` is for four digits after the decimal dot. The colon here marks the beginning of the format specification (as there are options that can be passed before). There are so many tricks to Python's string formatter that you'll usually look up just what you need.\n",
    "Another useful resource for string formatting is the [Python String Format Cookbook](https://mkaz.blog/code/python-string-format-cookbook/). Check it out!"
   ]
  },
  {
   "cell_type": "markdown",
   "id": "c3860f2a",
   "metadata": {},
   "source": [
    "### Variance and standard deviation\n",
    "\n",
    "While the mean indicates where's the center of your data, the\n",
    "**variance** and **standard deviation** describe the *spread* or\n",
    "variability of the data. You already mentioned that the _range_\n",
    "(difference between largest and smallest data values) is also an\n",
    "indication of variability. But the standard deviation is the most common\n",
    "measure of variability.\n",
    "\n",
    "[Prof. Kristin Sainani](https://profiles.stanford.edu/kristin-sainani),\n",
    "of Stanford University, presents this in her online course on\n",
    "[Statistics in\n",
    "Medicine](https://lagunita.stanford.edu/courses/Medicine/MedStats-SP/SelfPaced/about).\n",
    "In her lecture \"Describing Quantitative Data: What is the variability in\n",
    "the data?\", available [on YouTube](https://youtu.be/hlFeEQF5tDc), she\n",
    "asks: _What if someone were to ask you to devise a statistic that gives\n",
    "the avarage distance from the mean?_ Think about this a little bit.\n",
    "\n",
    "The distance from the mean, for any data value, is $x_i - \\bar{x}$. So\n",
    "what is the average of the distances from the mean? If you try to simply\n",
    "compute the average of all the values $x_i - \\bar{x}$, some of which are\n",
    "negative, you'll just get zero! It doesn't work.\n",
    "\n",
    "Since the problem is the negative distances from the mean, you might\n",
    "suggest using absolute values. But this is just mathematically\n",
    "inconvenient. Another way to get rid of negative values is to take the\n",
    "squares. And that's how you get to the expression for the _variance_: it is the average of the squares of the deviations from the mean. For a set of $N$ values,\n",
    "\n",
    "$\\text{var} = \\frac{1}{N}\\sum_{i} (x_i - \\bar{x})^2$\n",
    "\n",
    "\n",
    "The variance itself is hard to interpret. The problem with it is that the units are strange (they are the square of the original units). The **standard deviation**, the square root of the variance, is more meaningful because it has the same units as the original variable. Often, the symbol $\\sigma$ is used for it:\n",
    "\n",
    "$\\sigma = \\sqrt{\\text{var}} = \\sqrt{\\frac{1}{N}\\sum_{i} (x_i - \\bar{x})^2}$"
   ]
  },
  {
   "cell_type": "markdown",
   "id": "96490761",
   "metadata": {},
   "source": [
    "### Sample vs. population\n",
    "\n",
    "The above definitions are used when $N$ (the number of values)\n",
    "represents the entire population. But if you have a _sample_ of that\n",
    "population, the formulas have to be adjusted: instead of dividing by $N$\n",
    "you divide by $N-1$. This is important, especially when you work with\n",
    "real data since usually you have samples of populations. \n",
    "\n",
    "The **standard deviation** of a sample is denoted by $s$, and the formula is:\n",
    "\n",
    "$s = \\sqrt{\\frac{1}{N-1}\\sum_{i} (x_i - \\bar{x})^2}$\n",
    "\n",
    "Why? This gets a little technical, but the reason is that if you have a\n",
    "_sample_ of the population, you don't know the _real_ value of the mean,\n",
    "and $\\bar{x}$ is actually an _estimate_ of the mean. That's why you'll\n",
    "often find the symbol $\\mu$ used to denote the population mean, and\n",
    "distinguish it with the sample mean, $\\bar{x}$. Using $\\bar{x}$ to\n",
    "compute the standard deviation introduces a small bias: $\\bar{x}$ is\n",
    "computed _from the sample values_, and the data are on average\n",
    "(slightly) closer to $\\bar{x}$ than the population is to $\\mu$. Dividing\n",
    "by $N-1$ instead of $N$ corrects this bias!\n",
    "\n",
    "Prof. Sainani explains it by saying that you lost one degree of freedom\n",
    "when you estimated the mean using $\\bar{x}$.  For example, say you have\n",
    "100 people and I give you their mean age, and the actual age for 99\n",
    "people from the sample: you'll be able to calculate the age of that\n",
    "100th person. Once you calculated the mean, you only have 99 degrees of\n",
    "freedom left because that 100th person's age is fixed. \n",
    "\n",
    "Below is a graphical distinction between the _sample_ and the _population_ from [@allison_horst on twitter](https://twitter.com/allison_horst)\n",
    "\n",
    "![Sample vs Population from @allison_horst](https://pbs.twimg.com/media/EOM8s3fVUAAglHu?format=jpg&name=small)"
   ]
  },
  {
   "cell_type": "markdown",
   "id": "c5f4666b",
   "metadata": {},
   "source": [
    "### Let's code!\n",
    "\n",
    "Now that you have the math sorted out, you can program functions to\n",
    "compute the variance and the standard deviation. In your case, you are\n",
    "working with samples of the population of craft beers, so you need to use\n",
    "the formulas with $N-1$ in the denominator."
   ]
  },
  {
   "cell_type": "code",
   "execution_count": 25,
   "id": "80410680",
   "metadata": {},
   "outputs": [],
   "source": [
    "def sample_var(array):\n",
    "    \"\"\" Calculates the variance of an array that contains values of a sample of a \n",
    "    population. \n",
    "    \n",
    "    Arguments\n",
    "    ---------\n",
    "    array : array, contains sample of values. \n",
    "    \n",
    "    Returns\n",
    "    -------\n",
    "    var   : float, variance of the array .\n",
    "    \"\"\"\n",
    "    \n",
    "    sum_sqr = 0 \n",
    "    mean = np.mean(array)\n",
    "    \n",
    "    for element in array:\n",
    "        sum_sqr += (element - mean)**2\n",
    "    \n",
    "    N = len(array)\n",
    "    var = sum_sqr / (N - 1)\n",
    "    \n",
    "    return var\n",
    "    "
   ]
  },
  {
   "cell_type": "markdown",
   "id": "714d7d2a",
   "metadata": {},
   "source": [
    "Notice that you used `np.mean()` in your function: do you think you can make this function even more Pythonic? \n",
    "\n",
    "*Hint:* Yes!, you totally can.\n",
    "\n",
    "##### Exercise:\n",
    "\n",
    "Re-write the function `sample_var()` using `np.sum()` to replace the `for`-loop. Name the function `var_pythonic`."
   ]
  },
  {
   "cell_type": "code",
   "execution_count": 26,
   "id": "ddfc088d",
   "metadata": {},
   "outputs": [],
   "source": [
    "def var_pythonic(array):\n",
    "    \"\"\" Calculates the variance of an array that contains values of a sample of a \n",
    "    population. \n",
    "    \n",
    "    Arguments\n",
    "    ---------\n",
    "    array : array, contains sample of values. \n",
    "    \n",
    "    Returns\n",
    "    -------\n",
    "    var   : float, variance of the array .\n",
    "    \"\"\"\n",
    "    \n",
    "    mean = np.mean(array)\n",
    "    \n",
    "    sum_sqr = np.sum((mean - array)**2)\n",
    "    \n",
    "    N = len(array)\n",
    "    var = sum_sqr / (N - 1)\n",
    "    return var"
   ]
  },
  {
   "cell_type": "code",
   "execution_count": 27,
   "id": "2529f14c",
   "metadata": {},
   "outputs": [
    {
     "name": "stdout",
     "output_type": "stream",
     "text": [
      "673.6135373259929\n",
      "673.6135373259932\n"
     ]
    }
   ],
   "source": [
    "print(var_pythonic(ibu))\n",
    "print(sample_var(ibu))"
   ]
  },
  {
   "cell_type": "markdown",
   "id": "2736bf23",
   "metadata": {},
   "source": [
    "You have the sample variance, so you take its square root to get the\n",
    "standard deviation. You can make it a function, even though it's just\n",
    "one line of Python, to make your code more readable:"
   ]
  },
  {
   "cell_type": "code",
   "execution_count": 28,
   "id": "b7b82f76",
   "metadata": {},
   "outputs": [],
   "source": [
    "def sample_std(array):\n",
    "    \"\"\" Computes the standard deviation of an array that contains values\n",
    "    of a sample of a population.\n",
    "    \n",
    "    Arguments\n",
    "    ---------\n",
    "    array : array, contains sample of values. \n",
    "    \n",
    "    Returns\n",
    "    -------\n",
    "    std   : float, standard deviation of the array.\n",
    "    \"\"\"\n",
    "    \n",
    "    std = np.sqrt(sample_var(array))\n",
    "    \n",
    "    return std"
   ]
  },
  {
   "cell_type": "markdown",
   "id": "3bfde389",
   "metadata": {},
   "source": [
    "Let's call your brand new functions and assign the output values to new variables:"
   ]
  },
  {
   "cell_type": "code",
   "execution_count": 29,
   "id": "f4a648e7",
   "metadata": {},
   "outputs": [],
   "source": [
    "abv_std = sample_std(abv)\n",
    "ibu_std = sample_std(ibu)"
   ]
  },
  {
   "cell_type": "markdown",
   "id": "ea99b309",
   "metadata": {},
   "source": [
    "If you print these values using the string formatter, only printing 4\n",
    "decimal digits, you can display your descriptive statistics in a pleasant, human-readable way."
   ]
  },
  {
   "cell_type": "code",
   "execution_count": 30,
   "id": "04f7b057",
   "metadata": {},
   "outputs": [
    {
     "name": "stdout",
     "output_type": "stream",
     "text": [
      "The standard deviation for abv is 0.0135 and for ibu 25.9541\n"
     ]
    }
   ],
   "source": [
    "print('The standard deviation for abv is {:.4f} and for ibu {:.4f}'.format(abv_std, ibu_std))"
   ]
  },
  {
   "cell_type": "markdown",
   "id": "32836470",
   "metadata": {},
   "source": [
    "These numbers tell us that the `abv` values are quite concentrated\n",
    "around the mean value, while the `ibu` values are quite spread out from\n",
    "their mean. How could you check these descriptions of the data? A good way of doing so is using graphics: various types of plots can tell us things about the data. \n",
    "\n",
    "You'll learn about _histograms_ in this lesson, and in the following\n",
    "lesson you'll explore _box plots_."
   ]
  },
  {
   "cell_type": "markdown",
   "id": "d6394b1f",
   "metadata": {},
   "source": [
    "## Step 4: Distribution plots \n",
    "\n",
    "Every time that you work with data, visualizing it is very useful.\n",
    "Visualizations give us a better idea of how your data behaves. One way of\n",
    "visualizing data is with a frequency-distribution plot known as\n",
    "**histogram**: a graphical representation of how the data is\n",
    "distributed. To make a histogram, first you need to \"bin\" the range of\n",
    "values (divide the range into intervals) and then you count how many data values fall into each interval. The intervals are usually consecutive (not always), of equal size and non-overlapping. \n",
    "\n",
    "Thanks to Python and Matplotlib, making histograms is easy. You\n",
    "recommend that you always read the documentation, in this case about\n",
    "[histograms](https://matplotlib.org/devdocs/api/_as_gen/matplotlib.pyplot.hist.html).\n",
    "You'll show you here an example using the `hist()` function from `pyplot`, but this is just a starting point. \n",
    "\n",
    "Let's first load the **Matplotlib** module called `pyplot`, for making\n",
    "2D plots. Remember that to get the plots inside the notebook, you use a special \"magic\" command, `%matplotlib inline`:"
   ]
  },
  {
   "cell_type": "code",
   "execution_count": 31,
   "id": "fdcad52b",
   "metadata": {},
   "outputs": [],
   "source": [
    "from matplotlib import pyplot\n",
    "import matplotlib as plt\n",
    "%matplotlib inline\n",
    "\n",
    "#Import rcParams to set font styles\n",
    "from matplotlib import rcParams"
   ]
  },
  {
   "cell_type": "code",
   "execution_count": 32,
   "id": "80b11c69",
   "metadata": {},
   "outputs": [
    {
     "data": {
      "text/plain": [
       "(array([  1.,   0.,  38., 699., 857., 486., 159., 104.,   1.,   3.]),\n",
       " array([0.001 , 0.0137, 0.0264, 0.0391, 0.0518, 0.0645, 0.0772, 0.0899,\n",
       "        0.1026, 0.1153, 0.128 ]),\n",
       " <BarContainer object of 10 artists>)"
      ]
     },
     "execution_count": 32,
     "metadata": {},
     "output_type": "execute_result"
    },
    {
     "data": {
      "image/png": "[encoded data removed]",
      "text/plain": [
       "<Figure size 432x288 with 1 Axes>"
      ]
     },
     "metadata": {
      "filenames": {
       "image/png": "/home/runner/work/computational-mechanics/computational-mechanics/_build/jupyter_execute/module_02/01_Cheers_Stats_Beers_63_1.png"
      },
      "needs_background": "light"
     },
     "output_type": "display_data"
    }
   ],
   "source": [
    "pyplot.hist(abv)"
   ]
  },
  {
   "cell_type": "markdown",
   "id": "5f24610c",
   "metadata": {},
   "source": [
    "Now, you have a line plot, but if you see this plot without any\n",
    "information you would not be able to figure out what kind of data it is!\n",
    "You need labels on the axes, a title and why not a better color, font and size of the ticks. \n",
    "**Publication quality** plots should always be your standard for plotting. \n",
    "How you present your data will allow others (and probably you in the future) to better understand your work. \n",
    "\n",
    "You can customize the style of your plots using parameters for the lines,\n",
    "text, font and other plot options. You set some style options that apply\n",
    "for all the plots in the current session with\n",
    "[`plt.rc()`](https://matplotlib.org/api/_as_gen/matplotlib.plt.rc.html)\n",
    "Here, you'll make the font of a specific type and size (sans-serif and 18\n",
    "points). You can also customize other parameters like line width, color,\n",
    "and so on (check out the documentation)."
   ]
  },
  {
   "cell_type": "code",
   "execution_count": 33,
   "id": "98e6d6ca",
   "metadata": {},
   "outputs": [],
   "source": [
    "#Set font style and size \n",
    "rcParams['font.family'] = 'sans'\n",
    "rcParams['lines.linewidth'] = 3\n",
    "rcParams['font.size'] = 18"
   ]
  },
  {
   "cell_type": "markdown",
   "id": "4c29cc07",
   "metadata": {},
   "source": [
    "You'll redo the same plot, but now you'll add a few things to make it\n",
    "prettier and **publication quality**. You'll add a title, label the axes\n",
    "and, show a background grid. Study the commands below and look at the\n",
    "result!\n",
    "\n",
    "> __Note__: \n",
    "> Setting `rcParams` is a great way to control detailed plots, but there\n",
    "> are also dozens of [matplotlib\n",
    "> styles](https://matplotlib.org/stable/gallery/style_sheets/style_sheets_reference.html)\n",
    "> that look great. My recommendation is to keep axis/legend fonts >18 pt and\n",
    "> tick labels >16pt. The [fivethirtyeight style\n",
    "> sheet](https://matplotlib.org/stable/gallery/style_sheets/fivethirtyeight.html)\n",
    "> does a nice job presenting readable plots. Set the style using:\n",
    "> ```python\n",
    "> plt.style.use('fivethirtyeight')\n",
    "> ```\n",
    "> I'll use this in most of the notebooks."
   ]
  },
  {
   "cell_type": "code",
   "execution_count": 34,
   "id": "7b2bfa9a",
   "metadata": {},
   "outputs": [
    {
     "data": {
      "image/png": "[encoded data removed]",
      "text/plain": [
       "<Figure size 720x360 with 1 Axes>"
      ]
     },
     "metadata": {
      "filenames": {
       "image/png": "/home/runner/work/computational-mechanics/computational-mechanics/_build/jupyter_execute/module_02/01_Cheers_Stats_Beers_67_0.png"
      },
      "needs_background": "light"
     },
     "output_type": "display_data"
    }
   ],
   "source": [
    "#You can set the size of the figure by doing:\n",
    "pyplot.figure(figsize=(10,5))\n",
    "\n",
    "#Plotting\n",
    "plt.style.use('fivethirtyeight')\n",
    "pyplot.hist(abv, bins=20, color='b', histtype='bar', edgecolor='white') \n",
    "#The \\n is to leave a blank line between the title and the plot\n",
    "pyplot.title('abv \\n')\n",
    "pyplot.xlabel('Alcohol by Volume (abv) ')\n",
    "pyplot.ylabel('Frequency');"
   ]
  },
  {
   "cell_type": "code",
   "execution_count": 35,
   "id": "a5e08598",
   "metadata": {},
   "outputs": [
    {
     "data": {
      "image/png": "[encoded data removed]",
      "text/plain": [
       "<Figure size 720x360 with 1 Axes>"
      ]
     },
     "metadata": {
      "filenames": {
       "image/png": "/home/runner/work/computational-mechanics/computational-mechanics/_build/jupyter_execute/module_02/01_Cheers_Stats_Beers_68_0.png"
      }
     },
     "output_type": "display_data"
    }
   ],
   "source": [
    "#You can set the size of the figure by doing:\n",
    "pyplot.figure(figsize=(10,5))\n",
    "\n",
    "#Plotting\n",
    "plt.style.use('fivethirtyeight')\n",
    "pyplot.hist(ibu, bins=20, color=(0.9, 0.5, 0, 0.9), histtype='bar', edgecolor='white') \n",
    "#The \\n is to leave a blanck line between the title and the plot\n",
    "pyplot.title('ibu \\n')\n",
    "pyplot.xlabel('International Bittering Units (ibu)')\n",
    "pyplot.ylabel('Frequency');"
   ]
  },
  {
   "cell_type": "markdown",
   "id": "89deda3c",
   "metadata": {},
   "source": [
    "In the previous two plots set the colors in two ways:\n",
    "\n",
    "1. A string 'b', which specifies blue. You could also choose from: a string representation \n",
    "one of \n",
    "\n",
    "    {'b', 'g', 'r', 'c', 'm', 'y', 'k', 'w'} = \n",
    "    {**b**lue, **g**reen, **r**ed, **c**yan, **m**agenta, **y**ellow, blac**k**, **w**hite}\n",
    "    \n",
    "2. A RGB or RGBA (red, green, blue, alpha) tuple of float values in [0, 1] (e.g., (0.1, 0.2, 0.5) or (0.1, 0.2, 0.5, 0.3));\n",
    "\n",
    "Check out the other formatting options use can use in [Matplotlib colors](https://matplotlib.org/3.1.1/tutorials/colors/colors.html) and [Matplotlib hist command](https://matplotlib.org/3.1.1/api/_as_gen/matplotlib.pyplot.hist.html?highlight=hist#matplotlib.pyplot.hist)"
   ]
  },
  {
   "cell_type": "markdown",
   "id": "7a6721a6",
   "metadata": {},
   "source": [
    "## Exploratory exercise:\n",
    "\n",
    "Play around with the plots, change the values of the bins, colors, etc."
   ]
  },
  {
   "cell_type": "code",
   "execution_count": 36,
   "id": "f8a5ae8c",
   "metadata": {},
   "outputs": [
    {
     "data": {
      "image/png": "[encoded data removed]",
      "text/plain": [
       "<Figure size 720x360 with 1 Axes>"
      ]
     },
     "metadata": {
      "filenames": {
       "image/png": "/home/runner/work/computational-mechanics/computational-mechanics/_build/jupyter_execute/module_02/01_Cheers_Stats_Beers_71_0.png"
      }
     },
     "output_type": "display_data"
    }
   ],
   "source": [
    "#You can set the size of the figure by doing:\n",
    "pyplot.figure(figsize=(10,5))\n",
    "\n",
    "#Plotting\n",
    "pyplot.hist(ibu, bins=20, color=(0.9, 0.1, 0.3, 0.6), histtype='bar', edgecolor='white') \n",
    "#pyplot.hist(ibu, bins=20, color=(0.9, 0.8, 0, 0.1), histtype='bar', edgecolor='white') \n",
    "#pyplot.hist(ibu, bins=20, color=(0.1, 0.1, 0, 0.1), histtype='bar', edgecolor='white') \n",
    "#The \\n is to leave a blanck line between the title and the plot\n",
    "pyplot.title('ibu \\n')\n",
    "pyplot.xlabel('International Bittering Units (ibu)')\n",
    "pyplot.ylabel('Frequency');"
   ]
  },
  {
   "cell_type": "markdown",
   "id": "ffa5b079",
   "metadata": {},
   "source": [
    "### Comparing with a normal distribution\n",
    "\n",
    "A **normal** (or Gaussian) distribution is a special type of\n",
    "distrubution that behaves as shown in the figure: 68% of the values are\n",
    "within one standard deviation $\\sigma$ from the mean; 95% lie within\n",
    "$2\\sigma$; and at a distance of $\\pm3\\sigma$ from the mean, you cover\n",
    "99.7% of the values. This fact is known as the $3$-$\\sigma$ rule, or\n",
    "68-95-99.7 (empirical) rule.\n",
    "\n",
    "<img src=\"../images/std_bell_curve.png\" style=\"width: 800px;\"/> \n",
    "\n",
    "####  Standard deviation and coverage in a normal distribution. Modified figure based on original from [Wikimedia Commons](https://commons.wikimedia.org/wiki/File:Standard_deviation_diagram.svg), the free media repository.\n",
    "\n",
    "\n",
    "Notice that your histograms don't follow the shape of a normal\n",
    "distribution, known as *Bell Curve*. Our histograms are not centered in\n",
    "the mean value, and they are not symetric with respect to it. They are\n",
    "what is call **skewed** to the right (yes, to the _right_). A right (or positive) skewed distribution  looks like it's been pushed to the left: the right tail is longer and most of the values are concentrated on the left of the figure. Imagine that \"right-skewed\" means that a force from the right pushes on the curve."
   ]
  },
  {
   "cell_type": "markdown",
   "id": "19cf7a54",
   "metadata": {},
   "source": [
    "## Discussion point\n",
    "\n",
    "* How do you think that skewness will affect the percentages of coverage by standard deviation compared to the Bell Curve?\n",
    "\n",
    "_skewness creates a bias towards one or another direction from the mean.\n",
    "You can't assume the mean and mode are the same value_\n",
    "\n",
    "* Can you calculate those percentages? \n",
    "\n",
    "_with logical operators! `x[x<mean_x]/len(x)*100`\n",
    "\n",
    "## Exercise\n",
    "\n",
    "You can calculate skewness and standard deviation in a few lines of\n",
    "Python. But before doing that, you want you to explain in your own words\n",
    "how the following piece of code works. \n",
    "\n",
    "*Hints:* \n",
    "\n",
    "1. Check what the logical operation `np.logical_and(1<x, x<4)` returns.\n",
    "2. Check what happens if you sum booleans. For example, `True + True`, `True + False` and so on."
   ]
  },
  {
   "cell_type": "code",
   "execution_count": 37,
   "id": "19319a77",
   "metadata": {},
   "outputs": [
    {
     "data": {
      "text/plain": [
       "True"
      ]
     },
     "execution_count": 37,
     "metadata": {},
     "output_type": "execute_result"
    }
   ],
   "source": [
    "x = 5\n",
    "np.logical_and(1<x*2, x<4*2)"
   ]
  },
  {
   "cell_type": "markdown",
   "id": "b6b71f97",
   "metadata": {},
   "source": [
    "Now, using the same idea, you will calculate the number of elements in each interval of width $(1\\sigma, 2\\sigma, 3\\sigma)$, and get the corresponding percentage. \n",
    "\n",
    "Since you want to compute this for both of your variables, `abv` and\n",
    "`ibu`, you'll write a function to do so. Study carefully the code below. Better yet, explain it to your neighbor."
   ]
  },
  {
   "cell_type": "code",
   "execution_count": 38,
   "id": "4173422c",
   "metadata": {},
   "outputs": [
    {
     "name": "stdout",
     "output_type": "stream",
     "text": [
      "ibu 1sigma\n",
      "0.6811387900355872\n",
      "ibu 2sigma\n",
      "0.9565836298932386\n",
      "ibu 3sigma\n",
      "0.9971530249110322\n"
     ]
    }
   ],
   "source": [
    "print('ibu 1sigma')\n",
    "print(np.sum(np.logical_and(ibu_clean<ibu_mean+ibu_std,ibu_clean>ibu_mean-ibu_std)/len(ibu_clean)))\n",
    "print('ibu 2sigma')\n",
    "print(np.sum(np.logical_and(ibu_clean<ibu_mean+2*ibu_std,ibu_clean>ibu_mean-2*ibu_std)/len(ibu_clean)))\n",
    "print('ibu 3sigma')\n",
    "print(np.sum(np.logical_and(ibu_clean<ibu_mean+3*ibu_std,ibu_clean>ibu_mean-3*ibu_std)/len(ibu_clean)))"
   ]
  },
  {
   "cell_type": "code",
   "execution_count": 39,
   "id": "ae57b857",
   "metadata": {},
   "outputs": [
    {
     "name": "stdout",
     "output_type": "stream",
     "text": [
      "abv 1sigma\n",
      "0.7406303236797274\n",
      "abv 2sigma\n",
      "0.9433560477001701\n",
      "abv 3sigma\n",
      "0.9978705281090289\n"
     ]
    }
   ],
   "source": [
    "print('abv 1sigma')\n",
    "print(np.sum(np.logical_and(abv_clean<abv_mean+abv_std,abv_clean>abv_mean-abv_std)/len(abv_clean)))\n",
    "print('abv 2sigma')\n",
    "print(np.sum(np.logical_and(abv_clean<abv_mean+2*abv_std,abv_clean>abv_mean-2*abv_std)/len(abv_clean)))\n",
    "print('abv 3sigma')\n",
    "print(np.sum(np.logical_and(abv_clean<abv_mean+3*abv_std,abv_clean>abv_mean-3*abv_std)/len(abv_clean)))"
   ]
  },
  {
   "cell_type": "code",
   "execution_count": 40,
   "id": "69068c0d",
   "metadata": {},
   "outputs": [],
   "source": [
    "def std_percentages(x, x_mean, x_std):\n",
    "    \"\"\" Computes the percentage of coverage at 1std, 2std and 3std from the\n",
    "    mean value of a certain variable x.\n",
    "    \n",
    "    Arguments\n",
    "    ---------\n",
    "    x      : array, data you want to compute on. \n",
    "    x_mean : float, mean value of x array.\n",
    "    x_std  : float, standard deviation of x array.\n",
    "    \n",
    "    Returns\n",
    "    -------\n",
    "    \n",
    "    per_std_1 : float, percentage of values within 1 standard deviation.\n",
    "    per_std_2 : float, percentage of values within 2 standard deviations.\n",
    "    per_std_3 : float, percentage of values within 3 standard deviations.    \n",
    "    \"\"\"\n",
    "    \n",
    "    std_1 = x_std\n",
    "    std_2 = 2 * x_std\n",
    "    std_3 = 3 * x_std\n",
    "    \n",
    "    elem_std_1 = np.logical_and((x_mean - std_1) < x, x < (x_mean + std_1)).sum()\n",
    "    per_std_1 = elem_std_1 * 100 / len(x) \n",
    "    \n",
    "    elem_std_2 = np.logical_and((x_mean - std_2) < x, x < (x_mean + std_2)).sum()\n",
    "    per_std_2 = elem_std_2 * 100 / len(x) \n",
    "    \n",
    "    elem_std_3 = np.logical_and((x_mean - std_3) < x, x < (x_mean + std_3)).sum()\n",
    "    per_std_3 = elem_std_3 * 100 / len(x) \n",
    "    \n",
    "    return per_std_1, per_std_2, per_std_3\n",
    "    "
   ]
  },
  {
   "cell_type": "markdown",
   "id": "5986128d",
   "metadata": {},
   "source": [
    "Compute the percentages next. Notice that the function above returns\n",
    "three values. If you want to assign each value to a different variable,\n",
    "you need to follow a specific syntax. In your example this would be:"
   ]
  },
  {
   "cell_type": "markdown",
   "id": "a297a7aa",
   "metadata": {},
   "source": [
    "**abv**"
   ]
  },
  {
   "cell_type": "code",
   "execution_count": 41,
   "id": "1808550b",
   "metadata": {},
   "outputs": [],
   "source": [
    "abv_std1_per, abv_std2_per, abv_std3_per= std_percentages(abv, abv_mean, abv_std)"
   ]
  },
  {
   "cell_type": "markdown",
   "id": "896a13af",
   "metadata": {},
   "source": [
    "Pretty-print the values of your variables so you can inspect them:"
   ]
  },
  {
   "cell_type": "code",
   "execution_count": 42,
   "id": "f5377b3f",
   "metadata": {},
   "outputs": [
    {
     "name": "stdout",
     "output_type": "stream",
     "text": [
      "The percentage of coverage at 1 std of the abv_mean is : 74.06 %\n",
      "The percentage of coverage at 2 std of the abv_mean is : 94.34 %\n",
      "The percentage of coverage at 3 std of the abv_mean is : 99.79 %\n"
     ]
    }
   ],
   "source": [
    "print('The percentage of coverage at 1 std of the abv_mean is : {:.2f} %'.format(abv_std1_per))\n",
    "print('The percentage of coverage at 2 std of the abv_mean is : {:.2f} %'.format(abv_std2_per))\n",
    "print('The percentage of coverage at 3 std of the abv_mean is : {:.2f} %'.format(abv_std3_per))"
   ]
  },
  {
   "cell_type": "markdown",
   "id": "2f15c5f8",
   "metadata": {},
   "source": [
    "**ibu**"
   ]
  },
  {
   "cell_type": "code",
   "execution_count": 43,
   "id": "c1f1bd9b",
   "metadata": {},
   "outputs": [],
   "source": [
    "ibu_std1_per, ibu_std2_per, ibu_std3_per = std_percentages(ibu, ibu_mean, ibu_std)"
   ]
  },
  {
   "cell_type": "code",
   "execution_count": 44,
   "id": "501125c5",
   "metadata": {},
   "outputs": [
    {
     "name": "stdout",
     "output_type": "stream",
     "text": [
      "The percentage of coverage at 1 std of the ibu_mean is : 68.11 %\n",
      "The percentage of coverage at 2 std of the ibu_mean is : 95.66 %\n",
      "The percentage of coverage at 3 std of the ibu_mean is : 99.72 %\n"
     ]
    }
   ],
   "source": [
    "print('The percentage of coverage at 1 std of the ibu_mean is : {:.2f} %'.format(ibu_std1_per))\n",
    "print('The percentage of coverage at 2 std of the ibu_mean is : {:.2f} %'.format(ibu_std2_per))\n",
    "print('The percentage of coverage at 3 std of the ibu_mean is : {:.2f} %'.format(ibu_std3_per))"
   ]
  },
  {
   "cell_type": "markdown",
   "id": "1e3c7d76",
   "metadata": {},
   "source": [
    "Notice that in both cases the percentages are not that far from the values for normal distribution (68%, 95%, 99.7%), especially for $2\\sigma$ and $3\\sigma$. So usually you can use these values as a rule of thumb."
   ]
  },
  {
   "cell_type": "markdown",
   "id": "d90ad249",
   "metadata": {},
   "source": [
    "## What you've learned\n",
    "\n",
    "* Read data from a `csv` file using `pandas`.\n",
    "* The concepts of Data Frame and Series in `pandas`.\n",
    "* Clean null (NaN) values from a Series using `pandas`.\n",
    "* Convert a `panda`s Series into a `numpy` array.\n",
    "* Compute maximum and minimum, and range.\n",
    "* Revise concept of mean value.\n",
    "* Compute the variance and standard deviation.\n",
    "* Use the mean and standard deviation to understand how the data is distributed.\n",
    "* Plot frequency distribution diagrams (histograms).\n",
    "* Normal distribution and 3-sigma rule."
   ]
  },
  {
   "cell_type": "markdown",
   "id": "cdd8123b",
   "metadata": {},
   "source": [
    "## References\n",
    "\n",
    "1. [Craft beer datatset](https://github.com/nickhould/craft-beers-dataset) by Jean-Nicholas Hould.\n",
    "2. [Exploratory Data Analysis](https://en.wikipedia.org/wiki/Exploratory_data_analysis), Wikipedia article.\n",
    "3. _Think Python: How to Think Like a Computer Scientist_ (2012). Allen Downey. Green Tea Press.  [PDF available](http://greenteapress.com/thinkpython/thinkpython.pdf)\n",
    "4. [Intro to data Structures](https://pandas.pydata.org/pandas-docs/stable/dsintro.html), `pandas` documentation.\n",
    "5. _Think Stats: Probability and Statistics for Programmers_ version 1.6.0 (2011). Allen Downey. Green Tea Press.  [PDF available](http://greenteapress.com/thinkstats/thinkstats.pdf)\n",
    "\n",
    "### Recommended viewing\n",
    "\n",
    "From [\"Statistics in\n",
    "Medicine,\"](https://lagunita.stanford.edu/courses/Medicine/MedStats-SP/SelfPaced/about),\n",
    "a free course in Stanford Online by Prof. Kristin Sainani, highly\n",
    "recommended three lectures: \n",
    "* [Describing Quantitative Data: Where is the center?](https://youtu.be/tQ5slNYRcC4)\n",
    "* [Describing Quantitative Data: What is the variability in the data?](https://youtu.be/hlFeEQF5tDc)\n",
    "* [Variability in the data, continued: examples, bell curve](https://youtu.be/qeG0uNI3DBQ)\n",
    "\n",
    "# Problems\n",
    "\n",
    "1. Gordon Moore created an empirical prediction that the rate of\n",
    "semiconductors on a computer chip would double every two years. This\n",
    "prediction was known as Moore's law. Gordon Moore had originally only\n",
    "expected this empirical relation to hold from 1965 - 1975\n",
    "[[1](https://en.wikipedia.org/wiki/Moore%27s_law),[2](https://spectrum.ieee.org/computing/hardware/gordon-moore-the-man-whose-name-means-progress)],\n",
    "but semiconductor manufacturers were able to keep up with Moore's law\n",
    "until 2015. \n",
    "\n",
    "In the folder \"../data\" is a comma separated value (CSV) file,\n",
    "\"transistor_data.csv\" [taken from wikipedia\n",
    "01/2020](https://en.wikipedia.org/wiki/Transistor_count#Microprocessors).\n",
    "\n",
    "a. Use the `!head ../data/transistor_data.csv` command to look at\n",
    "the top of the csv. What are the headings for the columns?\n",
    "\n",
    "b. Load the csv into a pandas dataframe. How many missing values\n",
    "(`NaN`) are\n",
    "in the column with the number of transistors? What fraction are\n",
    "missing?"
   ]
  },
  {
   "cell_type": "code",
   "execution_count": 45,
   "id": "7dae3569",
   "metadata": {},
   "outputs": [
    {
     "name": "stdout",
     "output_type": "stream",
     "text": [
      "Processor,MOS transistor count,Date of Introduction,Designer,MOSprocess,Area\r\n",
      "\"MP944 (20-bit, 6-chip)\",NaN,1970,Garrett AiResearch,?,?\r\n",
      "\"Intel 4004 (4-bit, 16-pin)\",2250,1971,Intel,\"10,000 nm\",12 mm²\r\n",
      "\"Intel 8008 (8-bit, 18-pin)\",3500,1972,Intel,\"10,000 nm\",14 mm²\r\n",
      "\"NEC μCOM-4 (4-bit, 42-pin)\",2500,1973,NEC,\"7,500 nm\",?\r\n",
      "\"Intel 4040 (4-bit, 16-pin)\",3000,1974,Intel,\"10,000 nm\",12 mm²\r\n",
      "\"Motorola 6800 (8-bit, 40-pin)\",4100,1974,Motorola,\"6,000 nm\",16 mm²\r\n",
      "\"Intel 8080 (8-bit, 40-pin)\",6000,1974,Intel,\"6,000 nm\",20 mm²\r\n",
      "\"TMS 1000 (4-bit, 28-pin)\",8000,1974,Texas Instruments,\"8,000 nm\",11 mm²\r\n",
      "\"MOS Technology 6502 (8-bit, 40-pin)\",4528,1975,MOS Technology,\"8,000 nm\",21 mm²\r\n"
     ]
    }
   ],
   "source": [
    "#part a\n",
    "!head ../data/transistor_data.csv"
   ]
  },
  {
   "cell_type": "markdown",
   "id": "490dd076",
   "metadata": {},
   "source": [
    "a. The headings are: Processor,MOS transistor count,Date of Introduction,Designer,MOSprocess, and Area"
   ]
  },
  {
   "cell_type": "code",
   "execution_count": 46,
   "id": "a0610173",
   "metadata": {},
   "outputs": [
    {
     "name": "stdout",
     "output_type": "stream",
     "text": [
      "7\n",
      "3.763440860215054\n"
     ]
    }
   ],
   "source": [
    "#part b\n",
    "transistor_data = pd.read_csv('../data/transistor_data.csv')\n",
    "transistor_series = transistor_data['MOS transistor count']\n",
    "\n",
    "original = len(transistor_series)\n",
    "\n",
    "transistor_count_clean = transistor_series.dropna()\n",
    "\n",
    "dropped_NaN = len(transistor_count_clean)\n",
    "\n",
    "print(original - dropped_NaN)\n",
    "print((original - dropped_NaN) / original*100)"
   ]
  },
  {
   "cell_type": "markdown",
   "id": "7cf41be4",
   "metadata": {},
   "source": [
    "b. There are 7 missing NaN values in the column with teh number of transistors. About 3.76% of values are missing."
   ]
  },
  {
   "cell_type": "code",
   "execution_count": null,
   "id": "df88bb53",
   "metadata": {},
   "outputs": [],
   "source": []
  }
 ],
 "metadata": {
  "jupytext": {
   "formats": "notebooks//ipynb,md:myst",
   "text_representation": {
    "extension": ".md",
    "format_name": "myst",
    "format_version": 0.13,
    "jupytext_version": "1.11.4"
   }
  },
  "kernelspec": {
   "display_name": "Python 3 (ipykernel)",
   "language": "python",
   "name": "python3"
  },
  "language_info": {
   "codemirror_mode": {
    "name": "ipython",
    "version": 3
   },
   "file_extension": ".py",
   "mimetype": "text/x-python",
   "name": "python",
   "nbconvert_exporter": "python",
   "pygments_lexer": "ipython3",
   "version": "3.9.9"
  },
  "source_map": [
   13,
   18,
   55,
   58,
   70,
   72,
   78,
   82,
   84,
   88,
   90,
   102,
   120,
   122,
   127,
   129,
   135,
   139,
   141,
   145,
   147,
   151,
   153,
   161,
   165,
   169,
   171,
   177,
   183,
   188,
   196,
   199,
   208,
   220,
   228,
   232,
   237,
   240,
   244,
   249,
   252,
   269,
   272,
   280,
   282,
   289,
   291,
   296,
   333,
   368,
   377,
   402,
   412,
   435,
   438,
   444,
   461,
   465,
   468,
   473,
   475,
   484,
   503,
   512,
   514,
   530,
   535,
   555,
   568,
   579,
   593,
   599,
   611,
   632,
   656,
   659,
   666,
   675,
   684,
   718,
   724,
   728,
   730,
   734,
   738,
   742,
   746,
   750,
   754,
   769,
   811,
   814,
   818,
   831,
   835
  ]
 },
 "nbformat": 4,
 "nbformat_minor": 5
}